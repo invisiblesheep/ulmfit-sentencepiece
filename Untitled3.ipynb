{
 "cells": [
  {
   "cell_type": "code",
   "execution_count": 2,
   "metadata": {},
   "outputs": [],
   "source": [
    "from fastai.text import *"
   ]
  },
  {
   "cell_type": "code",
   "execution_count": 6,
   "metadata": {},
   "outputs": [],
   "source": [
    "from lxml import objectify, etree"
   ]
  },
  {
   "cell_type": "code",
   "execution_count": 9,
   "metadata": {},
   "outputs": [
    {
     "ename": "XMLSyntaxError",
     "evalue": "xmlParseEntityRef: no name, line 626, column 721 (fiwiki.xml, line 626)",
     "output_type": "error",
     "traceback": [
      "Traceback \u001b[0;36m(most recent call last)\u001b[0m:\n",
      "  File \u001b[1;32m\"/home/tuomas/virtualenvs/env/lib/python3.6/site-packages/IPython/core/interactiveshell.py\"\u001b[0m, line \u001b[1;32m2963\u001b[0m, in \u001b[1;35mrun_code\u001b[0m\n    exec(code_obj, self.user_global_ns, self.user_ns)\n",
      "  File \u001b[1;32m\"<ipython-input-9-ca9d66925b00>\"\u001b[0m, line \u001b[1;32m2\u001b[0m, in \u001b[1;35m<module>\u001b[0m\n    xml = etree.parse('fiwiki.xml')\n",
      "  File \u001b[1;32m\"src/lxml/etree.pyx\"\u001b[0m, line \u001b[1;32m3435\u001b[0m, in \u001b[1;35mlxml.etree.parse\u001b[0m\n",
      "  File \u001b[1;32m\"src/lxml/parser.pxi\"\u001b[0m, line \u001b[1;32m1840\u001b[0m, in \u001b[1;35mlxml.etree._parseDocument\u001b[0m\n",
      "  File \u001b[1;32m\"src/lxml/parser.pxi\"\u001b[0m, line \u001b[1;32m1866\u001b[0m, in \u001b[1;35mlxml.etree._parseDocumentFromURL\u001b[0m\n",
      "  File \u001b[1;32m\"src/lxml/parser.pxi\"\u001b[0m, line \u001b[1;32m1770\u001b[0m, in \u001b[1;35mlxml.etree._parseDocFromFile\u001b[0m\n",
      "  File \u001b[1;32m\"src/lxml/parser.pxi\"\u001b[0m, line \u001b[1;32m1163\u001b[0m, in \u001b[1;35mlxml.etree._BaseParser._parseDocFromFile\u001b[0m\n",
      "  File \u001b[1;32m\"src/lxml/parser.pxi\"\u001b[0m, line \u001b[1;32m601\u001b[0m, in \u001b[1;35mlxml.etree._ParserContext._handleParseResultDoc\u001b[0m\n",
      "  File \u001b[1;32m\"src/lxml/parser.pxi\"\u001b[0m, line \u001b[1;32m711\u001b[0m, in \u001b[1;35mlxml.etree._handleParseResult\u001b[0m\n",
      "\u001b[0;36m  File \u001b[0;32m\"src/lxml/parser.pxi\"\u001b[0;36m, line \u001b[0;32m640\u001b[0;36m, in \u001b[0;35mlxml.etree._raiseParseError\u001b[0;36m\u001b[0m\n",
      "\u001b[0;36m  File \u001b[0;32m\"fiwiki.xml\"\u001b[0;36m, line \u001b[0;32m626\u001b[0m\n\u001b[0;31m    Elokuussa 1985 Hanoi Rocksin viimeinen kokoonpano (Andy McCoy, Nasty Suicide, Timo Kaltio, Terry Chimes) perusti McCoyn ja Suiciden johdolla Cherry Bombzin, jonka laulajaksi otettiin Toto Coelo -yhtyeessä vaikuttanut Anita Chellamah. Glam rock ja glam punk -linjalla jatkanut Cherry Bombz sai paljon huomiota maailman musiikki- ja viihdelehdistössä Hanoi Rocksin perijänä. Cherry Bombz esitti monia Hanoi Rocksin kappaleita, joita ei oltu ehditty levyttää Hanoi Rocks -albumeille. Ensimmäinen kokoonpano ehti levyttää Britanniassa alun perin julkaistun 7\" singlen \"Hot Girls In Love / Feline Feeling\" ja Japanissa sekä Yhdysvalloissa julkaistun EP:n \"Hot Girls In Love / 100 Degrees In The Shade / Feline Feeling / Oil & Gasoline\". Lisäksi yhtyeen piti levyttää kokonainen LP, mutta rahat eivät riittäneet kuin ”mini-LP:hen” eli käytännössä EP:hen \"The Cherry Bombz\", joka sisälsi samat kappaleet kuin aiemmin julkaistu EP, lisättynä vain kappale ”Pin-Up Boy”. Loppuvuoden 1985 yhtyeessä jäsenenä ehtinyt olla Timo Kaltio korvattiin vuoden 1986 alusta lähtien Dave Tregunnalla (Lords of the New Church, Sham 69). Tämä kokoonpano ehti julkaista 7\" singlen \"House Of Ecstasy / Declaration\", EP:n \"House of Ecstasy / Declaration / Countryfield Inner City Blues /Running (Back To Your Lover)\" ja live-LP:n \"Coming Down Slow\", joka julkaistiin vuonna 1987 yhtyeen jo hajottua. Lisäksi syntyivät vielä keikkavideot ”Hot Girls In Love” ja ”Live At The Marquee” ja kokoelmakasetti ”100 Degrees In The Shade” 1986. Yhtye ehti kiertää Yhdysvalloissakin, mutta syksyllä 1986 yhtye hajosi, kun McCoy antoi Chellamahille potkut. Yhtye oli jo kauan ollut tyytymätön laulajattareensa.\u001b[0m\n\u001b[0m                                                                                                                                                                                                                                                                                                                                                                                                                                                                                                                                                                                                                                                                                                                                                   ^\u001b[0m\n\u001b[0;31mXMLSyntaxError\u001b[0m\u001b[0;31m:\u001b[0m xmlParseEntityRef: no name, line 626, column 721\n"
     ]
    }
   ],
   "source": [
    "#df = pd.read_csv('fiwiki.csv')\n",
    "xml = etree.parse('fiwiki.xml')"
   ]
  },
  {
   "cell_type": "code",
   "execution_count": null,
   "metadata": {},
   "outputs": [],
   "source": []
  }
 ],
 "metadata": {
  "kernelspec": {
   "display_name": "Python 3",
   "language": "python",
   "name": "python3"
  },
  "language_info": {
   "codemirror_mode": {
    "name": "ipython",
    "version": 3
   },
   "file_extension": ".py",
   "mimetype": "text/x-python",
   "name": "python",
   "nbconvert_exporter": "python",
   "pygments_lexer": "ipython3",
   "version": "3.6.5"
  }
 },
 "nbformat": 4,
 "nbformat_minor": 2
}
